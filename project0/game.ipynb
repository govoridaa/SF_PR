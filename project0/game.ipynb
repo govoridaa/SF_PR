{
 "cells": [
  {
   "cell_type": "code",
   "execution_count": 1,
   "metadata": {},
   "outputs": [
    {
     "name": "stdout",
     "output_type": "stream",
     "text": [
      "Загадано число от 1 до 100\n",
      "Угадываемое число больше 50\n",
      "Алгоритм бинарного поиска рекомендует вам число:75\n",
      "Угадываемое число больше 75\n",
      "Алгоритм бинарного поиска рекомендует вам число:88\n",
      "Угадываемое число меньше 88\n",
      "Алгоритм бинарного поиска рекомендует вам число:82\n",
      "Угадываемое число меньше 82\n",
      "Алгоритм бинарного поиска рекомендует вам число:78\n",
      "Угадываемое число больше 78\n",
      "Алгоритм бинарного поиска рекомендует вам число:80\n",
      "Угадываемое число больше 80\n",
      "Алгоритм бинарного поиска рекомендует вам число:81\n",
      "Вы угадали число 81 за 7 попыток.\n"
     ]
    },
    {
     "ename": "ModuleNotFoundError",
     "evalue": "No module named 'game.py'; 'game' is not a package",
     "output_type": "error",
     "traceback": [
      "\u001b[1;31m---------------------------------------------------------------------------\u001b[0m",
      "\u001b[1;31mModuleNotFoundError\u001b[0m                       Traceback (most recent call last)",
      "Cell \u001b[1;32mIn[1], line 1\u001b[0m\n\u001b[1;32m----> 1\u001b[0m \u001b[38;5;28;01mimport\u001b[39;00m \u001b[38;5;21;01mgame\u001b[39;00m\u001b[38;5;21;01m.\u001b[39;00m\u001b[38;5;21;01mpy\u001b[39;00m\n",
      "\u001b[1;31mModuleNotFoundError\u001b[0m: No module named 'game.py'; 'game' is not a package"
     ]
    }
   ],
   "source": [
    "import game.py\n"
   ]
  }
 ],
 "metadata": {
  "kernelspec": {
   "display_name": "Python 3",
   "language": "python",
   "name": "python3"
  },
  "language_info": {
   "codemirror_mode": {
    "name": "ipython",
    "version": 3
   },
   "file_extension": ".py",
   "mimetype": "text/x-python",
   "name": "python",
   "nbconvert_exporter": "python",
   "pygments_lexer": "ipython3",
   "version": "3.12.1"
  }
 },
 "nbformat": 4,
 "nbformat_minor": 2
}
